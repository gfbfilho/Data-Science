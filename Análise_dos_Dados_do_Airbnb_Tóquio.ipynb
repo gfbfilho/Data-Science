{
  "nbformat": 4,
  "nbformat_minor": 0,
  "metadata": {
    "colab": {
      "name": "Análise dos Dados do Airbnb - Tóquio.ipynb",
      "provenance": [],
      "collapsed_sections": [],
      "toc_visible": true,
      "authorship_tag": "ABX9TyOEOvSPrc9i9o2Lvk4Zn1nZ",
      "include_colab_link": true
    },
    "kernelspec": {
      "name": "python3",
      "display_name": "Python 3"
    }
  },
  "cells": [
    {
      "cell_type": "markdown",
      "metadata": {
        "id": "view-in-github",
        "colab_type": "text"
      },
      "source": [
        "<a href=\"https://colab.research.google.com/github/gfbfilho/Data-Science/blob/master/An%C3%A1lise_dos_Dados_do_Airbnb_T%C3%B3quio.ipynb\" target=\"_parent\"><img src=\"https://colab.research.google.com/assets/colab-badge.svg\" alt=\"Open In Colab\"/></a>"
      ]
    },
    {
      "cell_type": "markdown",
      "metadata": {
        "id": "8hz7YUlIjxBJ",
        "colab_type": "text"
      },
      "source": [
        ""
      ]
    },
    {
      "cell_type": "markdown",
      "metadata": {
        "id": "fdhX_wN9GHqN",
        "colab_type": "text"
      },
      "source": [
        "#Análise dos Dados do Airbnb - **Tóquio** \n",
        "\n",
        "\n",
        "<center><img alt=\"Analisando Airbnb\" width=\"40%\" src=\"https://www.area360.com.au/wp-content/uploads/2017/09/airbnb-logo.jpg\"><img alt=\"Tokyo\" width=\"30%\" src=\"https://i.pinimg.com/564x/f7/a2/e6/f7a2e6986a4956439d739a368a442c91.jpg\"> </center>\n",
        "\n",
        "\n",
        "O [Airbnb](https://www.airbnb.com.br/) (*airbed and breakfast*) surgiu em 2008, quando dois designers hospedaram três viajantes que procuravam um espaço para ficar. Agora, essa startup ajuda no anúncio de espaços para reservas de acomodações em qualquer lugar do mundo. \n",
        "\n",
        "**Alguns de seus atrativos são**: plataforma virtual que garante atendimento 24h, 7 dias por semana; seus preços, muitas das vezes menores do que os meios tradicionais de acomodações; e a relação da empresa com os envolvidos, pois muitos de seus funcionários são anfitriões e hóspedes que utilizam a plataforma.\n",
        "\n",
        "Uma das iniciativas do Airbnb é disponibilizar dados do site, para algumas das principais cidades do mundo. Por meio do portal [Inside Airbnb](http://insideairbnb.com/get-the-data.html), é possível baixar uma grande quantidade de dados para desenvolver projetos e soluções de *Data Science*.\n",
        "\n",
        "**Neste *notebook*, iremos analisar os dados referentes à cidade de Tóquio, capital do Japão, e ver quais *insights* podem ser extraídos a partir de dados brutos.**"
      ]
    },
    {
      "cell_type": "markdown",
      "metadata": {
        "id": "oZaW_bMeV8YU",
        "colab_type": "text"
      },
      "source": [
        "# **Tóquio** - Capital Japonesa\n",
        "\n",
        "Tóquio é uma cidade bastante chamativa para os turistas, pois nela podemos encontrar:\n",
        "\n",
        "* O Shibuya Crossing - cruzamento mais movimenta do mundo, palco de cenas de vários filmes e animes:\n",
        "\n",
        "<center><img alt=\"Shibuya Crossing\" width=\"40%\" src=\"https://images.squarespace-cdn.com/content/555cbc7ee4b059e095f39179/1524594838588-XAVPEDK00I4HJ44MAD44/shibuya-crossing-10.jpg?format=1500w&content-type=image%2Fjpeg\"> </center>\n",
        "\n",
        "* O Tokyo Skytree - a segunda torre mais alta do mundo e a mais alta do Japão, inspirada na Torre Eiffel:\n",
        "\n",
        "<center><img alt=\"Tokyo Skytree\" width=\"40%\" src=\"https://www.gotokyo.org/en/spot/6/images/4507_1_750x503.jpg\"> </center>\n",
        "\n",
        "* O Parque Ueno - destaque na primavera com o florar rosado das cerejeiras:\n",
        "\n",
        "<center><img alt=\"Tokyo Skytree\" width=\"40%\" src=\"https://farm4.staticflickr.com/3212/2685558360_310360dce4_o.jpg\"> </center>\n",
        "\n",
        "* Bairros históricos repletos de templos:\n",
        "\n",
        "<center><img alt=\"Tokyo Skytree\" width=\"40%\" src=\"https://cdn1.peakwork.com/84aAfgiUNT28GP59TmcWeBZwdOc=/360x240/smart/https://contenthub.smartyhub.com/uploads/images/2018/03/1521038667.jpg\"> </center>\n",
        "\n",
        "Além disso, destaca-se pela cultura geek bastante presente e por ser considerada uma das cidades mais inovadoras do mundo.\n",
        "\n",
        "Apesar de apresentar bastante pontos favoráveis, também apresenta suas desvantagens, principalmente por ser considerada uma das cidades mais caras do mundo para se viver e por sofrer bastante com muitos terremotos e outros desastres naturais, por estar localizada numa região de fronteiras entre placas tectônicas.\n",
        "\n"
      ]
    },
    {
      "cell_type": "markdown",
      "metadata": {
        "id": "KHhMxukLjszE",
        "colab_type": "text"
      },
      "source": [
        "## Obtenção dos Dados\n",
        "\n",
        "Para esta etapa inicial, os dados foram obtidos a partir do site [Inside Airbnb](http://insideairbnb.com/get-the-data.html). Como é de interesse analisar dados referentes à cidade de Tóquio, o seguinte arquivo foi baixado:\n",
        "\n",
        "* `listings.csv` - *Summary information and metrics for listings in Tokyo (good for visualisations)* - dados atualizados em 25 / 06 / 2020.\n",
        "\n"
      ]
    },
    {
      "cell_type": "code",
      "metadata": {
        "id": "RCwMCShvmGwt",
        "colab_type": "code",
        "colab": {}
      },
      "source": [
        "# importar os pacotes necessarios\n",
        "import pandas as pd\n",
        "import matplotlib.pyplot as plt\n",
        "import seaborn as sns\n",
        "\n",
        "%matplotlib inline"
      ],
      "execution_count": null,
      "outputs": []
    },
    {
      "cell_type": "code",
      "metadata": {
        "id": "qi_AmpKFmXsq",
        "colab_type": "code",
        "colab": {}
      },
      "source": [
        "# importar arquivo listings.csv para um DataFrame\n",
        "df = pd.read_csv(\"http://data.insideairbnb.com/japan/kant%C5%8D/tokyo/2020-06-25/visualisations/listings.csv\")"
      ],
      "execution_count": null,
      "outputs": []
    },
    {
      "cell_type": "markdown",
      "metadata": {
        "id": "MmtEvG1ItFy5",
        "colab_type": "text"
      },
      "source": [
        "## Análise dos Dados\n",
        "\n",
        "Esta etapa é de fundamental importância para se adquirir um conhecimento prévio sobre os dados obtidos, uma vez que permite a verificação e um melhor entendimento de como eles estão estruturados; além de conhecer quais informações eles nos fornecem e quais serão de nosso interesse.\n",
        "\n",
        "**Dicionário das variáveis**\n",
        "\n",
        "* `id` - número de id gerado para identificar o imóvel\n",
        "* `name` - nome da propriedade anunciada\n",
        "* `host_id` - número de id do proprietário (anfitrião) da propriedade\n",
        "* `host_name` - Nome do anfitrião\n",
        "* `neighbourhood_group` - esta coluna não contém nenhum valor válido\n",
        "* `neighbourhood` - nome do bairro\n",
        "* `latitude` - coordenada da latitude da propriedade\n",
        "* `longitude` - coordenada da longitude da propriedade\n",
        "* `room_type` - informa o tipo de quarto que é oferecido\n",
        "* `price` - preço para alugar o imóvel\n",
        "* `minimum_nights` - quantidade mínima de noites para reservar\n",
        "* `number_of_reviews` - número de reviews que a propriedade possui\n",
        "* `last_review` - data do último review\n",
        "* `reviews_per_month` - quantidade de reviews por mês\n",
        "* `calculated_host_listings_count` - quantidade de imóveis do mesmo anfitrião\n",
        "* `availability_365` - número de dias de disponibilidade dentro de 365 dias\n",
        "\n",
        "Antes de iniciar qualquer análise, vamos verificar como é organizado o nosso *dataset*, para as 10 primeiras entradas."
      ]
    },
    {
      "cell_type": "code",
      "metadata": {
        "id": "6QmCc6gB8j25",
        "colab_type": "code",
        "colab": {
          "base_uri": "https://localhost:8080/",
          "height": 867
        },
        "outputId": "96cfc1d6-a5f3-450b-a687-818ece94b740"
      },
      "source": [
        "# mostrar as 10 primeiras entradas\n",
        "df.head(10)"
      ],
      "execution_count": null,
      "outputs": [
        {
          "output_type": "execute_result",
          "data": {
            "text/html": [
              "<div>\n",
              "<style scoped>\n",
              "    .dataframe tbody tr th:only-of-type {\n",
              "        vertical-align: middle;\n",
              "    }\n",
              "\n",
              "    .dataframe tbody tr th {\n",
              "        vertical-align: top;\n",
              "    }\n",
              "\n",
              "    .dataframe thead th {\n",
              "        text-align: right;\n",
              "    }\n",
              "</style>\n",
              "<table border=\"1\" class=\"dataframe\">\n",
              "  <thead>\n",
              "    <tr style=\"text-align: right;\">\n",
              "      <th></th>\n",
              "      <th>id</th>\n",
              "      <th>name</th>\n",
              "      <th>host_id</th>\n",
              "      <th>host_name</th>\n",
              "      <th>neighbourhood_group</th>\n",
              "      <th>neighbourhood</th>\n",
              "      <th>latitude</th>\n",
              "      <th>longitude</th>\n",
              "      <th>room_type</th>\n",
              "      <th>price</th>\n",
              "      <th>minimum_nights</th>\n",
              "      <th>number_of_reviews</th>\n",
              "      <th>last_review</th>\n",
              "      <th>reviews_per_month</th>\n",
              "      <th>calculated_host_listings_count</th>\n",
              "      <th>availability_365</th>\n",
              "    </tr>\n",
              "  </thead>\n",
              "  <tbody>\n",
              "    <tr>\n",
              "      <th>0</th>\n",
              "      <td>35303</td>\n",
              "      <td>La Casa Gaienmae C Harajuku, Omotesando is nearby</td>\n",
              "      <td>151977</td>\n",
              "      <td>Miyuki</td>\n",
              "      <td>NaN</td>\n",
              "      <td>Shibuya Ku</td>\n",
              "      <td>35.67152</td>\n",
              "      <td>139.71203</td>\n",
              "      <td>Private room</td>\n",
              "      <td>4163</td>\n",
              "      <td>28</td>\n",
              "      <td>18</td>\n",
              "      <td>2018-07-28</td>\n",
              "      <td>0.17</td>\n",
              "      <td>3</td>\n",
              "      <td>89</td>\n",
              "    </tr>\n",
              "    <tr>\n",
              "      <th>1</th>\n",
              "      <td>197677</td>\n",
              "      <td>Oshiage Holiday Apartment</td>\n",
              "      <td>964081</td>\n",
              "      <td>Yoshimi &amp; Marek</td>\n",
              "      <td>NaN</td>\n",
              "      <td>Sumida Ku</td>\n",
              "      <td>35.71721</td>\n",
              "      <td>139.82596</td>\n",
              "      <td>Entire home/apt</td>\n",
              "      <td>10993</td>\n",
              "      <td>3</td>\n",
              "      <td>165</td>\n",
              "      <td>2020-03-04</td>\n",
              "      <td>1.55</td>\n",
              "      <td>1</td>\n",
              "      <td>300</td>\n",
              "    </tr>\n",
              "    <tr>\n",
              "      <th>2</th>\n",
              "      <td>289597</td>\n",
              "      <td>Private apt in central Tokyo #203</td>\n",
              "      <td>341577</td>\n",
              "      <td>Hide&amp;Kei</td>\n",
              "      <td>NaN</td>\n",
              "      <td>Nerima Ku</td>\n",
              "      <td>35.74267</td>\n",
              "      <td>139.65810</td>\n",
              "      <td>Entire home/apt</td>\n",
              "      <td>4163</td>\n",
              "      <td>28</td>\n",
              "      <td>113</td>\n",
              "      <td>2020-02-17</td>\n",
              "      <td>1.16</td>\n",
              "      <td>2</td>\n",
              "      <td>165</td>\n",
              "    </tr>\n",
              "    <tr>\n",
              "      <th>3</th>\n",
              "      <td>370759</td>\n",
              "      <td>Cozy flat #203, local area YET 10 mins to shib...</td>\n",
              "      <td>1573631</td>\n",
              "      <td>Gilles,Mayumi,Taiki</td>\n",
              "      <td>NaN</td>\n",
              "      <td>Setagaya Ku</td>\n",
              "      <td>35.66443</td>\n",
              "      <td>139.65707</td>\n",
              "      <td>Entire home/apt</td>\n",
              "      <td>7044</td>\n",
              "      <td>28</td>\n",
              "      <td>103</td>\n",
              "      <td>2020-04-16</td>\n",
              "      <td>1.35</td>\n",
              "      <td>3</td>\n",
              "      <td>361</td>\n",
              "    </tr>\n",
              "    <tr>\n",
              "      <th>4</th>\n",
              "      <td>700253</td>\n",
              "      <td>Private apt in central Tokyo #201</td>\n",
              "      <td>341577</td>\n",
              "      <td>Hide&amp;Kei</td>\n",
              "      <td>NaN</td>\n",
              "      <td>Nerima Ku</td>\n",
              "      <td>35.74264</td>\n",
              "      <td>139.65832</td>\n",
              "      <td>Entire home/apt</td>\n",
              "      <td>3949</td>\n",
              "      <td>28</td>\n",
              "      <td>104</td>\n",
              "      <td>2020-05-12</td>\n",
              "      <td>1.11</td>\n",
              "      <td>2</td>\n",
              "      <td>353</td>\n",
              "    </tr>\n",
              "    <tr>\n",
              "      <th>5</th>\n",
              "      <td>872235</td>\n",
              "      <td>RELAX AT HOME:Shimo 5'/Shibuya 10'</td>\n",
              "      <td>1573631</td>\n",
              "      <td>Gilles,Mayumi,Taiki</td>\n",
              "      <td>NaN</td>\n",
              "      <td>Setagaya Ku</td>\n",
              "      <td>35.66832</td>\n",
              "      <td>139.65159</td>\n",
              "      <td>Entire home/apt</td>\n",
              "      <td>8005</td>\n",
              "      <td>28</td>\n",
              "      <td>45</td>\n",
              "      <td>2020-04-22</td>\n",
              "      <td>0.51</td>\n",
              "      <td>3</td>\n",
              "      <td>59</td>\n",
              "    </tr>\n",
              "    <tr>\n",
              "      <th>6</th>\n",
              "      <td>899003</td>\n",
              "      <td>Classy room @Shinjuku, Takadanoba</td>\n",
              "      <td>4799233</td>\n",
              "      <td>Yu</td>\n",
              "      <td>NaN</td>\n",
              "      <td>Shinjuku Ku</td>\n",
              "      <td>35.70865</td>\n",
              "      <td>139.69681</td>\n",
              "      <td>Entire home/apt</td>\n",
              "      <td>5230</td>\n",
              "      <td>30</td>\n",
              "      <td>93</td>\n",
              "      <td>2019-11-25</td>\n",
              "      <td>1.04</td>\n",
              "      <td>2</td>\n",
              "      <td>172</td>\n",
              "    </tr>\n",
              "    <tr>\n",
              "      <th>7</th>\n",
              "      <td>905944</td>\n",
              "      <td>4F - Near Shinjuku &amp; Shibuya w/Free WiFi</td>\n",
              "      <td>4847803</td>\n",
              "      <td>Best Stay In Tokyo!</td>\n",
              "      <td>NaN</td>\n",
              "      <td>Shibuya Ku</td>\n",
              "      <td>35.67878</td>\n",
              "      <td>139.67847</td>\n",
              "      <td>Entire home/apt</td>\n",
              "      <td>9606</td>\n",
              "      <td>3</td>\n",
              "      <td>185</td>\n",
              "      <td>2020-03-27</td>\n",
              "      <td>2.10</td>\n",
              "      <td>11</td>\n",
              "      <td>288</td>\n",
              "    </tr>\n",
              "    <tr>\n",
              "      <th>8</th>\n",
              "      <td>1016831</td>\n",
              "      <td>WOMAN ONLY LICENSED ! Cosy &amp; Cat behnd Shibuya</td>\n",
              "      <td>5596383</td>\n",
              "      <td>Wakana</td>\n",
              "      <td>NaN</td>\n",
              "      <td>Setagaya Ku</td>\n",
              "      <td>35.65833</td>\n",
              "      <td>139.67153</td>\n",
              "      <td>Private room</td>\n",
              "      <td>7044</td>\n",
              "      <td>1</td>\n",
              "      <td>211</td>\n",
              "      <td>2020-03-16</td>\n",
              "      <td>2.40</td>\n",
              "      <td>1</td>\n",
              "      <td>2</td>\n",
              "    </tr>\n",
              "    <tr>\n",
              "      <th>9</th>\n",
              "      <td>1096292</td>\n",
              "      <td>2 rooms homestay with a kid-family</td>\n",
              "      <td>6018145</td>\n",
              "      <td>Mari</td>\n",
              "      <td>NaN</td>\n",
              "      <td>Shinjuku Ku</td>\n",
              "      <td>35.69098</td>\n",
              "      <td>139.70618</td>\n",
              "      <td>Private room</td>\n",
              "      <td>12488</td>\n",
              "      <td>1</td>\n",
              "      <td>251</td>\n",
              "      <td>2020-02-15</td>\n",
              "      <td>3.04</td>\n",
              "      <td>3</td>\n",
              "      <td>365</td>\n",
              "    </tr>\n",
              "  </tbody>\n",
              "</table>\n",
              "</div>"
            ],
            "text/plain": [
              "        id  ... availability_365\n",
              "0    35303  ...               89\n",
              "1   197677  ...              300\n",
              "2   289597  ...              165\n",
              "3   370759  ...              361\n",
              "4   700253  ...              353\n",
              "5   872235  ...               59\n",
              "6   899003  ...              172\n",
              "7   905944  ...              288\n",
              "8  1016831  ...                2\n",
              "9  1096292  ...              365\n",
              "\n",
              "[10 rows x 16 columns]"
            ]
          },
          "metadata": {
            "tags": []
          },
          "execution_count": 6
        }
      ]
    },
    {
      "cell_type": "markdown",
      "metadata": {
        "id": "FjNS5OT1_gqX",
        "colab_type": "text"
      },
      "source": [
        "### **Q1. Quantos atributos (variáveis) e quantas entradas o nosso conjunto de dados possui? Quais os tipos das variáveis?**\n",
        "\n",
        "O *dataset* que foi adquirido apresenta **14715** entradas e **16** variáveis. Lembramos, porém, que o arquivo baixado `listings.csv` é uma versão resumida fornecida pela Airbnb. Uuma versão mais \"completa\", com uma quantidade maior de variáveis, pode ser encontrada através de arquivos `listings.csv.gz`, que possui  **14715** e **106** variáveis."
      ]
    },
    {
      "cell_type": "code",
      "metadata": {
        "id": "U9kl9Fp-Ci1-",
        "colab_type": "code",
        "colab": {
          "base_uri": "https://localhost:8080/",
          "height": 336
        },
        "outputId": "6919ffae-c992-4f19-c3a9-1c96210ff91d"
      },
      "source": [
        "# identificação do volume de dados do DataFrame\n",
        "print(\"Entradas:\\t {}\".format(df.shape[0]))\n",
        "print(\"Variáveis:\\t {}\".format(df.shape[1]))\n",
        "\n",
        "\n",
        "display(df.dtypes)"
      ],
      "execution_count": null,
      "outputs": [
        {
          "output_type": "stream",
          "text": [
            "Entradas:\t 14715\n",
            "Variáveis:\t 16\n"
          ],
          "name": "stdout"
        },
        {
          "output_type": "display_data",
          "data": {
            "text/plain": [
              "id                                  int64\n",
              "name                               object\n",
              "host_id                             int64\n",
              "host_name                          object\n",
              "neighbourhood_group               float64\n",
              "neighbourhood                      object\n",
              "latitude                          float64\n",
              "longitude                         float64\n",
              "room_type                          object\n",
              "price                               int64\n",
              "minimum_nights                      int64\n",
              "number_of_reviews                   int64\n",
              "last_review                        object\n",
              "reviews_per_month                 float64\n",
              "calculated_host_listings_count      int64\n",
              "availability_365                    int64\n",
              "dtype: object"
            ]
          },
          "metadata": {
            "tags": []
          }
        }
      ]
    },
    {
      "cell_type": "markdown",
      "metadata": {
        "id": "JtCXyXv0tC_M",
        "colab_type": "text"
      },
      "source": [
        "### **Q2. Qual a porcentagem de valores ausentes no *dataset* ?**\n",
        "\n",
        "Valores ausentes podem atrapalhar a manipulação dos dados e a obtenção dos resultados desejados. Logo, de início, verificamos a existência e quantidade de valores ausentes.\n",
        "\n",
        "No *dataset* em estudo, percebemos que:\n",
        "\n",
        "* A coluna `neighbourhood_group` possui 100% dos seus valores faltantes;\n",
        "* As colunas `reviews_per_month` e `last_review` possuem 18,33% dos seus valores faltantes;\n",
        "* As colunas `host_name` e `name` têm menos do que 0,2% de valores nulos."
      ]
    },
    {
      "cell_type": "code",
      "metadata": {
        "id": "L7KIxge7th6s",
        "colab_type": "code",
        "colab": {
          "base_uri": "https://localhost:8080/",
          "height": 302
        },
        "outputId": "d0f588fe-0daf-4941-a446-1b5f0bcde386"
      },
      "source": [
        "# ordenar em ordem decrescente as variáveis por seus valores ausentes\n",
        "(df.isnull().sum()/df.shape[0]).sort_values(ascending=False)"
      ],
      "execution_count": null,
      "outputs": [
        {
          "output_type": "execute_result",
          "data": {
            "text/plain": [
              "neighbourhood_group               1.000000\n",
              "reviews_per_month                 0.183282\n",
              "last_review                       0.183282\n",
              "host_name                         0.001699\n",
              "name                              0.000068\n",
              "availability_365                  0.000000\n",
              "calculated_host_listings_count    0.000000\n",
              "number_of_reviews                 0.000000\n",
              "minimum_nights                    0.000000\n",
              "price                             0.000000\n",
              "room_type                         0.000000\n",
              "longitude                         0.000000\n",
              "latitude                          0.000000\n",
              "neighbourhood                     0.000000\n",
              "host_id                           0.000000\n",
              "id                                0.000000\n",
              "dtype: float64"
            ]
          },
          "metadata": {
            "tags": []
          },
          "execution_count": 8
        }
      ]
    },
    {
      "cell_type": "markdown",
      "metadata": {
        "id": "NXvvLKtlxZrV",
        "colab_type": "text"
      },
      "source": [
        "### **Q3. Qual o tipo de distribuição das variáveis?**\n",
        "\n",
        "Podemos identificar a distribuição das variáveis a partir de histogramas, como verificado abaixo:\n"
      ]
    },
    {
      "cell_type": "code",
      "metadata": {
        "id": "DljQFd-NyUq3",
        "colab_type": "code",
        "colab": {
          "base_uri": "https://localhost:8080/",
          "height": 620
        },
        "outputId": "26ed02bf-af9d-4b0d-eef3-dc9d84f3ff44"
      },
      "source": [
        "# plotar o histograma das variáveis numéricas\n",
        "df.hist(bins=15, figsize=(15,10));"
      ],
      "execution_count": null,
      "outputs": [
        {
          "output_type": "display_data",
          "data": {
            "image/png": "[encoded data removed]",
            "text/plain": [
              "<Figure size 1080x720 with 12 Axes>"
            ]
          },
          "metadata": {
            "tags": [],
            "needs_background": "light"
          }
        }
      ]
    },
    {
      "cell_type": "markdown",
      "metadata": {
        "id": "0SUsa0m-zKgh",
        "colab_type": "text"
      },
      "source": [
        "### **Q4. Há *outliers* presentes?**\n",
        "\n",
        "Pela análise dos histogramas, percebe-se que no *dataset* em estudo existem *outliers* em variáveis como `minimum_nights`, `reviews_per_month` e `price` .\n",
        "\n",
        "Lembrando que *outliers* são valores que fogem da normalidade e que causarão anomalias nos resultados obtidos, distorcendo toda a representação gráfica.\n",
        "\n",
        "Há duas maneiras rápidas que auxiliam na detecção de *outliers*, são elas:\n",
        "* Resumo estatístico por meio do método `describe()`;\n",
        "* Plotar `boxplots` para a variável.\n"
      ]
    },
    {
      "cell_type": "code",
      "metadata": {
        "id": "POyCiuLr2J5P",
        "colab_type": "code",
        "colab": {
          "base_uri": "https://localhost:8080/",
          "height": 284
        },
        "outputId": "ed1889dc-2c66-430f-93c7-2c6b3dfae588"
      },
      "source": [
        "# ver o resumo estatístico das variáveis numéricas\n",
        "df[['minimum_nights','reviews_per_month','price','number_of_reviews', \n",
        "    'calculated_host_listings_count', 'availability_365']].describe()"
      ],
      "execution_count": null,
      "outputs": [
        {
          "output_type": "execute_result",
          "data": {
            "text/html": [
              "<div>\n",
              "<style scoped>\n",
              "    .dataframe tbody tr th:only-of-type {\n",
              "        vertical-align: middle;\n",
              "    }\n",
              "\n",
              "    .dataframe tbody tr th {\n",
              "        vertical-align: top;\n",
              "    }\n",
              "\n",
              "    .dataframe thead th {\n",
              "        text-align: right;\n",
              "    }\n",
              "</style>\n",
              "<table border=\"1\" class=\"dataframe\">\n",
              "  <thead>\n",
              "    <tr style=\"text-align: right;\">\n",
              "      <th></th>\n",
              "      <th>minimum_nights</th>\n",
              "      <th>reviews_per_month</th>\n",
              "      <th>price</th>\n",
              "      <th>number_of_reviews</th>\n",
              "      <th>calculated_host_listings_count</th>\n",
              "      <th>availability_365</th>\n",
              "    </tr>\n",
              "  </thead>\n",
              "  <tbody>\n",
              "    <tr>\n",
              "      <th>count</th>\n",
              "      <td>14715.000000</td>\n",
              "      <td>12018.000000</td>\n",
              "      <td>1.471500e+04</td>\n",
              "      <td>14715.000000</td>\n",
              "      <td>14715.000000</td>\n",
              "      <td>14715.000000</td>\n",
              "    </tr>\n",
              "    <tr>\n",
              "      <th>mean</th>\n",
              "      <td>3.264628</td>\n",
              "      <td>1.475873</td>\n",
              "      <td>2.653451e+04</td>\n",
              "      <td>26.243765</td>\n",
              "      <td>12.752769</td>\n",
              "      <td>159.549847</td>\n",
              "    </tr>\n",
              "    <tr>\n",
              "      <th>std</th>\n",
              "      <td>9.069325</td>\n",
              "      <td>1.253111</td>\n",
              "      <td>7.636293e+04</td>\n",
              "      <td>40.676073</td>\n",
              "      <td>14.300715</td>\n",
              "      <td>119.088848</td>\n",
              "    </tr>\n",
              "    <tr>\n",
              "      <th>min</th>\n",
              "      <td>1.000000</td>\n",
              "      <td>0.020000</td>\n",
              "      <td>0.000000e+00</td>\n",
              "      <td>0.000000</td>\n",
              "      <td>1.000000</td>\n",
              "      <td>0.000000</td>\n",
              "    </tr>\n",
              "    <tr>\n",
              "      <th>25%</th>\n",
              "      <td>1.000000</td>\n",
              "      <td>0.540000</td>\n",
              "      <td>6.831000e+03</td>\n",
              "      <td>1.000000</td>\n",
              "      <td>3.000000</td>\n",
              "      <td>67.000000</td>\n",
              "    </tr>\n",
              "    <tr>\n",
              "      <th>50%</th>\n",
              "      <td>1.000000</td>\n",
              "      <td>1.260000</td>\n",
              "      <td>1.179100e+04</td>\n",
              "      <td>11.000000</td>\n",
              "      <td>8.000000</td>\n",
              "      <td>157.000000</td>\n",
              "    </tr>\n",
              "    <tr>\n",
              "      <th>75%</th>\n",
              "      <td>2.000000</td>\n",
              "      <td>2.120000</td>\n",
              "      <td>1.995900e+04</td>\n",
              "      <td>34.000000</td>\n",
              "      <td>17.000000</td>\n",
              "      <td>258.000000</td>\n",
              "    </tr>\n",
              "    <tr>\n",
              "      <th>max</th>\n",
              "      <td>365.000000</td>\n",
              "      <td>37.610000</td>\n",
              "      <td>1.066046e+06</td>\n",
              "      <td>529.000000</td>\n",
              "      <td>98.000000</td>\n",
              "      <td>365.000000</td>\n",
              "    </tr>\n",
              "  </tbody>\n",
              "</table>\n",
              "</div>"
            ],
            "text/plain": [
              "       minimum_nights  ...  availability_365\n",
              "count    14715.000000  ...      14715.000000\n",
              "mean         3.264628  ...        159.549847\n",
              "std          9.069325  ...        119.088848\n",
              "min          1.000000  ...          0.000000\n",
              "25%          1.000000  ...         67.000000\n",
              "50%          1.000000  ...        157.000000\n",
              "75%          2.000000  ...        258.000000\n",
              "max        365.000000  ...        365.000000\n",
              "\n",
              "[8 rows x 6 columns]"
            ]
          },
          "metadata": {
            "tags": []
          },
          "execution_count": 11
        }
      ]
    },
    {
      "cell_type": "markdown",
      "metadata": {
        "id": "yDmeu1ip4C4i",
        "colab_type": "text"
      },
      "source": [
        "Pelo resumo estatístico acima, podemos verificar que:\n",
        "\n",
        "* A variável `minimum_nights` possui 75% do seu valor abaixo de 2, enquanto seu valor máximo é 365;\n",
        "* A variável `reviews_per_month`tem valor máximo de 37,61, enquanto que 75% de seus valores são abaixo de 2,12.\n",
        "* A variável `price`apresenta 75% dos seus valores abaixo de 19959, enquanto seu valor máximo é de 1066046.\n",
        "\n",
        "Logo, confirmamos o que foi verificado através da visualização prévia do histograma de cada variável, ou seja, há *outliers* nessas variáveis.\n",
        "\n",
        "Para essas variáveis citadas, podemos gerar `boxplot`. Eles ajudam na visualização dos valores que fogem da normalidade e que contribuiem para o surgimento de *outliers*, como pode ser verificado abaixo:\n"
      ]
    },
    {
      "cell_type": "markdown",
      "metadata": {
        "id": "3pUCNzD2PIb8",
        "colab_type": "text"
      },
      "source": [
        "#### Boxplot para a variável `minimum_nights`"
      ]
    },
    {
      "cell_type": "code",
      "metadata": {
        "id": "Dco--N_jPRqh",
        "colab_type": "code",
        "colab": {
          "base_uri": "https://localhost:8080/",
          "height": 278
        },
        "outputId": "bbf810fe-3c6f-4b90-b4e7-f277844eb768"
      },
      "source": [
        "df.minimum_nights.plot(kind='box', vert=False, figsize=(15,3))\n",
        "plt.show()\n",
        "\n",
        "# ver a quantidade de valores acima 38 para minimun_nights\n",
        "print(\"\\nminimun nights: valores acima de 38\")\n",
        "print(\"{} entradas\".format(len(df[df.minimum_nights>38])))\n",
        "print(\"{:.4f}%\".format((len(df[df.minimum_nights>38])/df.shape[0])*100))"
      ],
      "execution_count": null,
      "outputs": [
        {
          "output_type": "display_data",
          "data": {
            "image/png": "[encoded data removed]",
            "text/plain": [
              "<Figure size 1080x216 with 1 Axes>"
            ]
          },
          "metadata": {
            "tags": [],
            "needs_background": "light"
          }
        },
        {
          "output_type": "stream",
          "text": [
            "\n",
            "minimun nights: valores acima de 38\n",
            "14 entradas\n",
            "0.0951%\n"
          ],
          "name": "stdout"
        }
      ]
    },
    {
      "cell_type": "markdown",
      "metadata": {
        "id": "MxPY6rRYRIoA",
        "colab_type": "text"
      },
      "source": [
        "#### Boxplot para a variável `reviews_per_month`"
      ]
    },
    {
      "cell_type": "code",
      "metadata": {
        "id": "k7go2FU6RRuY",
        "colab_type": "code",
        "colab": {
          "base_uri": "https://localhost:8080/",
          "height": 278
        },
        "outputId": "ea26eeb2-7577-4fca-9c3b-846ecb7052b3"
      },
      "source": [
        "df.reviews_per_month.plot(kind='box', vert=False, figsize=(15,3))\n",
        "plt.show()\n",
        "\n",
        "# ver a quantidade de valores acima 2.2 para reviews per month\n",
        "print(\"\\nreviews per month: valores acima de 2.2\")\n",
        "print(\"{} entradas\".format(len(df[df.reviews_per_month>2.2])))\n",
        "print(\"{:.4f}%\".format((len(df[df.reviews_per_month>2.2])/df.shape[0])*100))"
      ],
      "execution_count": null,
      "outputs": [
        {
          "output_type": "display_data",
          "data": {
            "image/png": "[encoded data removed]",
            "text/plain": [
              "<Figure size 1080x216 with 1 Axes>"
            ]
          },
          "metadata": {
            "tags": [],
            "needs_background": "light"
          }
        },
        {
          "output_type": "stream",
          "text": [
            "\n",
            "reviews per month: valores acima de 2.2\n",
            "2723 entradas\n",
            "18.5049%\n"
          ],
          "name": "stdout"
        }
      ]
    },
    {
      "cell_type": "markdown",
      "metadata": {
        "id": "9um7uKo2NEcC",
        "colab_type": "text"
      },
      "source": [
        "#### Boxplot para a variável `price`"
      ]
    },
    {
      "cell_type": "code",
      "metadata": {
        "id": "qYhTYBXnNNul",
        "colab_type": "code",
        "colab": {
          "base_uri": "https://localhost:8080/",
          "height": 291
        },
        "outputId": "585b874e-f3cc-4886-d653-e3414b101659"
      },
      "source": [
        "df.price.plot(kind='box', vert=False, figsize=(15,3))\n",
        "plt.show()\n",
        "\n",
        "# ver a quantidade de valores acima 20000 para price\n",
        "print(\"\\nprice: valores acima de 20000\")\n",
        "print(\"{} entradas\".format(len(df[df.price>20000])))\n",
        "print(\"{:.4f}%\".format((len(df[df.price>20000])/df.shape[0])*100))\n"
      ],
      "execution_count": null,
      "outputs": [
        {
          "output_type": "display_data",
          "data": {
            "image/png": "[encoded data removed]",
            "text/plain": [
              "<Figure size 1080x216 with 1 Axes>"
            ]
          },
          "metadata": {
            "tags": [],
            "needs_background": "light"
          }
        },
        {
          "output_type": "stream",
          "text": [
            "\n",
            "price: valores acima de 20000\n",
            "3563 entradas\n",
            "24.2134%\n"
          ],
          "name": "stdout"
        }
      ]
    },
    {
      "cell_type": "markdown",
      "metadata": {
        "id": "GfsBaiheTqxt",
        "colab_type": "text"
      },
      "source": [
        "#### Histogramas sem *ottliers*\n",
        "\n",
        "Após a identificação dos *outliers* nas variáveis `minimum_nights`,`reviews_per_month` e `price`, podemos limpar o *DataFrame* delas e plotar novamente os histogramas."
      ]
    },
    {
      "cell_type": "code",
      "metadata": {
        "id": "efyvAK59UcWa",
        "colab_type": "code",
        "colab": {
          "base_uri": "https://localhost:8080/",
          "height": 607
        },
        "outputId": "56a466bc-c9df-434c-ab51-556af08b1c52"
      },
      "source": [
        "# remover os *outliers* do DataFrame\n",
        "df_clean = df.copy()\n",
        "df_clean.drop(df_clean[df_clean.minimum_nights>38].index, axis=0, inplace=True)\n",
        "df_clean.drop(df_clean[df_clean.reviews_per_month>2.2].index, axis=0, inplace=True)\n",
        "df_clean.drop(df_clean[df_clean.price>20000].index, axis=0, inplace=True)\n",
        "\n",
        "# remover a variável neighbourhood_group, pois está vazia\n",
        "df_clean.drop('neighbourhood_group', axis=1, inplace=True)\n",
        "\n",
        "#plotar o histograma para as variáveis numéricas\n",
        "df_clean.hist(bins=15, figsize=(15,10));"
      ],
      "execution_count": null,
      "outputs": [
        {
          "output_type": "display_data",
          "data": {
            "image/png": "[encoded data removed]",
            "text/plain": [
              "<Figure size 1080x720 with 12 Axes>"
            ]
          },
          "metadata": {
            "tags": [],
            "needs_background": "light"
          }
        }
      ]
    },
    {
      "cell_type": "markdown",
      "metadata": {
        "id": "BRBZZq70WfMi",
        "colab_type": "text"
      },
      "source": [
        "### **Q4. Qual a correlação existente entre as variáveis?**\n",
        "\n",
        "Com o intuito de investigar a intensidade da relação que existe entre as variáveis do nosso *dataset*, devemos:\n",
        "\n",
        "* Criar uma matriz de correlação\n",
        "* Gerar um *heatmap* a partir dessa matriz, usando a biblioteca `seaborn`"
      ]
    },
    {
      "cell_type": "code",
      "metadata": {
        "id": "PL7YA72CYAex",
        "colab_type": "code",
        "colab": {
          "base_uri": "https://localhost:8080/",
          "height": 225
        },
        "outputId": "a3425beb-bab7-495a-d169-11d3a27c33c7"
      },
      "source": [
        "# criar uma matriz de correlação\n",
        "corr = df_clean[['availability_365', 'calculated_host_listings_count',\n",
        "                'minimum_nights', 'number_of_reviews','price','reviews_per_month']].corr()\n",
        "\n",
        "display(corr)"
      ],
      "execution_count": null,
      "outputs": [
        {
          "output_type": "display_data",
          "data": {
            "text/html": [
              "<div>\n",
              "<style scoped>\n",
              "    .dataframe tbody tr th:only-of-type {\n",
              "        vertical-align: middle;\n",
              "    }\n",
              "\n",
              "    .dataframe tbody tr th {\n",
              "        vertical-align: top;\n",
              "    }\n",
              "\n",
              "    .dataframe thead th {\n",
              "        text-align: right;\n",
              "    }\n",
              "</style>\n",
              "<table border=\"1\" class=\"dataframe\">\n",
              "  <thead>\n",
              "    <tr style=\"text-align: right;\">\n",
              "      <th></th>\n",
              "      <th>availability_365</th>\n",
              "      <th>calculated_host_listings_count</th>\n",
              "      <th>minimum_nights</th>\n",
              "      <th>number_of_reviews</th>\n",
              "      <th>price</th>\n",
              "      <th>reviews_per_month</th>\n",
              "    </tr>\n",
              "  </thead>\n",
              "  <tbody>\n",
              "    <tr>\n",
              "      <th>availability_365</th>\n",
              "      <td>1.000000</td>\n",
              "      <td>0.037748</td>\n",
              "      <td>0.064139</td>\n",
              "      <td>0.059565</td>\n",
              "      <td>0.006436</td>\n",
              "      <td>0.020291</td>\n",
              "    </tr>\n",
              "    <tr>\n",
              "      <th>calculated_host_listings_count</th>\n",
              "      <td>0.037748</td>\n",
              "      <td>1.000000</td>\n",
              "      <td>0.111847</td>\n",
              "      <td>-0.110534</td>\n",
              "      <td>-0.081929</td>\n",
              "      <td>-0.087520</td>\n",
              "    </tr>\n",
              "    <tr>\n",
              "      <th>minimum_nights</th>\n",
              "      <td>0.064139</td>\n",
              "      <td>0.111847</td>\n",
              "      <td>1.000000</td>\n",
              "      <td>0.014525</td>\n",
              "      <td>-0.093252</td>\n",
              "      <td>-0.161995</td>\n",
              "    </tr>\n",
              "    <tr>\n",
              "      <th>number_of_reviews</th>\n",
              "      <td>0.059565</td>\n",
              "      <td>-0.110534</td>\n",
              "      <td>0.014525</td>\n",
              "      <td>1.000000</td>\n",
              "      <td>-0.044234</td>\n",
              "      <td>0.648140</td>\n",
              "    </tr>\n",
              "    <tr>\n",
              "      <th>price</th>\n",
              "      <td>0.006436</td>\n",
              "      <td>-0.081929</td>\n",
              "      <td>-0.093252</td>\n",
              "      <td>-0.044234</td>\n",
              "      <td>1.000000</td>\n",
              "      <td>0.097695</td>\n",
              "    </tr>\n",
              "    <tr>\n",
              "      <th>reviews_per_month</th>\n",
              "      <td>0.020291</td>\n",
              "      <td>-0.087520</td>\n",
              "      <td>-0.161995</td>\n",
              "      <td>0.648140</td>\n",
              "      <td>0.097695</td>\n",
              "      <td>1.000000</td>\n",
              "    </tr>\n",
              "  </tbody>\n",
              "</table>\n",
              "</div>"
            ],
            "text/plain": [
              "                                availability_365  ...  reviews_per_month\n",
              "availability_365                        1.000000  ...           0.020291\n",
              "calculated_host_listings_count          0.037748  ...          -0.087520\n",
              "minimum_nights                          0.064139  ...          -0.161995\n",
              "number_of_reviews                       0.059565  ...           0.648140\n",
              "price                                   0.006436  ...           0.097695\n",
              "reviews_per_month                       0.020291  ...           1.000000\n",
              "\n",
              "[6 rows x 6 columns]"
            ]
          },
          "metadata": {
            "tags": []
          }
        }
      ]
    },
    {
      "cell_type": "code",
      "metadata": {
        "id": "gtxLPBJIYwA3",
        "colab_type": "code",
        "colab": {
          "base_uri": "https://localhost:8080/",
          "height": 411
        },
        "outputId": "1cf3521c-55c3-4ae9-c23e-007d7fcab26f"
      },
      "source": [
        "sns.heatmap(corr, cmap='RdBu', fmt='.2f', square=True, linecolor='white', annot=True);"
      ],
      "execution_count": null,
      "outputs": [
        {
          "output_type": "display_data",
          "data": {
            "image/png": "[encoded data removed]",
            "text/plain": [
              "<Figure size 432x288 with 2 Axes>"
            ]
          },
          "metadata": {
            "tags": [],
            "needs_background": "light"
          }
        }
      ]
    },
    {
      "cell_type": "markdown",
      "metadata": {
        "id": "YFPC4km7Y8Og",
        "colab_type": "text"
      },
      "source": [
        "### **Q5. Qual o tipo de imóvel mais alugado em Tóquio pelo Airbnb?**\n",
        "\n",
        "Pelo Airbnb é possível alugar apartamentos, casas, apenas um quarto ou dividir com outras pessoas. Logo, determinaremos a quantidade de ocorrências de cada tipo de aluguel, usando o método `value_counts()` para a variável `room_type`."
      ]
    },
    {
      "cell_type": "code",
      "metadata": {
        "id": "lCTRy2LjaPLI",
        "colab_type": "code",
        "colab": {
          "base_uri": "https://localhost:8080/",
          "height": 101
        },
        "outputId": "be9843dd-2532-4d1b-a50d-02e1c7f74130"
      },
      "source": [
        "# mostrar a quantidade de cada tipo de imóvel disponível\n",
        "df_clean.room_type.value_counts()"
      ],
      "execution_count": null,
      "outputs": [
        {
          "output_type": "execute_result",
          "data": {
            "text/plain": [
              "Entire home/apt    5542\n",
              "Private room       2528\n",
              "Shared room         615\n",
              "Hotel room          481\n",
              "Name: room_type, dtype: int64"
            ]
          },
          "metadata": {
            "tags": []
          },
          "execution_count": 29
        }
      ]
    },
    {
      "cell_type": "code",
      "metadata": {
        "id": "fOGW_zGkaW5-",
        "colab_type": "code",
        "colab": {
          "base_uri": "https://localhost:8080/",
          "height": 101
        },
        "outputId": "4ba0469e-d7eb-4ce5-bb6a-67b314880120"
      },
      "source": [
        "# mostrar a porcentagem de cada tipo de imóvel disponível\n",
        "df_clean.room_type.value_counts() / df_clean.shape[0]"
      ],
      "execution_count": null,
      "outputs": [
        {
          "output_type": "execute_result",
          "data": {
            "text/plain": [
              "Entire home/apt    0.604626\n",
              "Private room       0.275802\n",
              "Shared room        0.067096\n",
              "Hotel room         0.052477\n",
              "Name: room_type, dtype: float64"
            ]
          },
          "metadata": {
            "tags": []
          },
          "execution_count": 30
        }
      ]
    },
    {
      "cell_type": "markdown",
      "metadata": {
        "id": "mgKkgF4Uaecc",
        "colab_type": "text"
      },
      "source": [
        "### **Q6. Qual a localidade mais cara de Tóquio?**\n",
        "\n",
        "Neste tópico iremos comparar os preços das acomodações entre os bairros, com o intuito de identificar qual o bairro que apresenta os valores mais altos de aluguéis.\n",
        "\n",
        "Para isso usaremos o método `groupby()` na variável `neighbourhoods`.\n"
      ]
    },
    {
      "cell_type": "code",
      "metadata": {
        "id": "ZoQV8Dg_by3O",
        "colab_type": "code",
        "colab": {
          "base_uri": "https://localhost:8080/",
          "height": 218
        },
        "outputId": "1b8598a3-1228-46fb-d820-d12781aab4a9"
      },
      "source": [
        "df_clean.groupby(['neighbourhood']).price.mean().sort_values(ascending=False)[:10]"
      ],
      "execution_count": null,
      "outputs": [
        {
          "output_type": "execute_result",
          "data": {
            "text/plain": [
              "neighbourhood\n",
              "Miyake Mura      14996.000000\n",
              "Bunkyo Ku        11799.233766\n",
              "Minato Ku        11519.116959\n",
              "Shibuya Ku       11272.054152\n",
              "Hachijo Machi    11121.600000\n",
              "Chiyoda Ku       10537.349398\n",
              "Taito Ku         10523.305085\n",
              "Shinjuku Ku      10464.925048\n",
              "Ota Ku           10175.794286\n",
              "Niijima Mura     10033.000000\n",
              "Name: price, dtype: float64"
            ]
          },
          "metadata": {
            "tags": []
          },
          "execution_count": 31
        }
      ]
    },
    {
      "cell_type": "markdown",
      "metadata": {
        "id": "BFv32bsAcf93",
        "colab_type": "text"
      },
      "source": [
        "Com os resultados acima, podemos constatar que o bairro de Miyake Mura apresentou a maior média de preço, com uma diferença de 3196.77 do segundo bairro mais caro.\n",
        "\n",
        "Constata-se também que não existe muita disparidade entre as médias do segundo bairro mais caro (Bunkyo Ku) e do décimo mais caro (Niijima Mura).\n"
      ]
    },
    {
      "cell_type": "markdown",
      "metadata": {
        "id": "c1chV891eD6Q",
        "colab_type": "text"
      },
      "source": [
        "### **Q7. Distribuições dos imóveis cadastrados no Airbnb em Tóquio**\n",
        "\n",
        "Como são fornecidas as Latitudes e Longitudes para os imóveis, é possível plotar cada ponto. Para isso, considera-se `x=longitude` e `y=latitude`."
      ]
    },
    {
      "cell_type": "code",
      "metadata": {
        "id": "weJPrV-kedQL",
        "colab_type": "code",
        "colab": {
          "base_uri": "https://localhost:8080/",
          "height": 472
        },
        "outputId": "3c39a73a-db1a-400f-ca1a-a91c815293f4"
      },
      "source": [
        "# plotar os imóveis pela latitude-longitude\n",
        "df_clean.plot(kind=\"scatter\", x='longitude', y='latitude', alpha=0.4, c=df_clean['price'], s=8,\n",
        "              cmap=plt.get_cmap('jet'), figsize=(12,8));"
      ],
      "execution_count": null,
      "outputs": [
        {
          "output_type": "display_data",
          "data": {
            "image/png": "[encoded data removed]",
            "text/plain": [
              "<Figure size 864x576 with 2 Axes>"
            ]
          },
          "metadata": {
            "tags": [],
            "needs_background": "light"
          }
        }
      ]
    },
    {
      "cell_type": "markdown",
      "metadata": {
        "id": "HYY9J1q1fmFm",
        "colab_type": "text"
      },
      "source": [
        "## Conclusões\n",
        "\n",
        "Apesar do *dataset* utilizado ser uma versão resumida, pode-se concluir, inicialmente, que existem *outliers* em variáveis como a `price` e o `minimum_nights`.\n",
        "\n",
        "Foi possível, também, verificar os bairros mais caros da cidade de Tóquio, e que mais de 60% dos aluguéis são de casas/apartamentos. Informação bastante importante para quem deseja, um dia, visitar a cidade.\n",
        "\n",
        "Por fim, este notebook trouxe uma abordagem inicial sobre manipulação de dados de um *dataset* específico. Reforçamos que uam análise mais detalhada deve ser feita com o conjunto de dados mais completo, que apresenta 106 variáveis."
      ]
    }
  ]
}